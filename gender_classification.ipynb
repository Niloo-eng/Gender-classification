{
  "nbformat": 4,
  "nbformat_minor": 0,
  "metadata": {
    "colab": {
      "name": "gender-classification.ipynb",
      "provenance": []
    },
    "kernelspec": {
      "name": "python3",
      "display_name": "Python 3"
    },
    "language_info": {
      "name": "python"
    }
  },
  "cells": [
    {
      "cell_type": "code",
      "metadata": {
        "id": "EGWhjHcodqrD"
      },
      "source": [
        "# Requirement libraries\n",
        "\n",
        "import matplotlib.pyplot as plt\n",
        "from keras.preprocessing.image import ImageDataGenerator\n",
        "from keras.optimizers import Adam\n",
        "from keras.preprocessing.image import img_to_array\n",
        "from keras.utils import to_categorical\n",
        "\n",
        "from sklearn.model_selection import train_test_split\n",
        "import numpy as np\n",
        "import pandas as pd\n",
        "import random\n",
        "import cv2\n",
        "import os\n",
        "from PIL import Image\n",
        "\n",
        "from keras.layers import *\n",
        "from keras.models import *\n",
        "import keras\n"
      ],
      "execution_count": null,
      "outputs": []
    },
    {
      "cell_type": "code",
      "metadata": {
        "id": "7v-cMuF8d74j"
      },
      "source": [
        "# Hyper - parameters\n",
        "\n",
        "epochs = 50\n",
        "lr = 1e-2\n",
        "batch_size = 16\n",
        "#img_dims = (96,96,3)\n",
        "\n",
        "data = []\n",
        "labels = []"
      ],
      "execution_count": null,
      "outputs": []
    },
    {
      "cell_type": "code",
      "metadata": {
        "id": "NFCDCJGMeT-B"
      },
      "source": [
        "size = 224"
      ],
      "execution_count": null,
      "outputs": []
    },
    {
      "cell_type": "markdown",
      "metadata": {
        "id": "WlddmEQzeXOK"
      },
      "source": [
        "Resnet 50"
      ]
    },
    {
      "cell_type": "code",
      "metadata": {
        "id": "10qXSHfjd8AK"
      },
      "source": [
        "import tensorflow as tf\n",
        "from tensorflow.keras.applications import ResNet50\n",
        "from tensorflow.keras.models import Sequential\n",
        "from tensorflow.keras.layers import Dense, Flatten, GlobalAveragePooling2D, BatchNormalization\n",
        "from tensorflow.keras.applications.resnet50 import preprocess_input\n",
        "from tensorflow.keras.preprocessing.image import ImageDataGenerator\n",
        "from tensorflow.keras.preprocessing.image import load_img, img_to_array\n",
        "\n",
        "resnet_weights_path = '../input/resnet50/resnet50_weights_tf_dim_ordering_tf_kernels_notop.h5'\n"
      ],
      "execution_count": null,
      "outputs": []
    },
    {
      "cell_type": "code",
      "metadata": {
        "id": "G224WEH5d8K2"
      },
      "source": [
        "# CALLBACKS\n",
        "\n",
        "from keras.callbacks import EarlyStopping\n",
        "from keras.callbacks import ReduceLROnPlateau\n",
        "\n",
        "es = EarlyStopping(patience=5, monitor = 'val_accuracy')\n",
        "rlp = ReduceLROnPlateau(patience=5, monitor = 'val_accuracy')\n",
        "\n",
        "callbacks = [es, rlp]"
      ],
      "execution_count": null,
      "outputs": []
    },
    {
      "cell_type": "code",
      "metadata": {
        "id": "zmqnPtoed9kQ"
      },
      "source": [
        "train_datagen = ImageDataGenerator(horizontal_flip=True,\n",
        "                                   width_shift_range = 0.4,\n",
        "                                   height_shift_range = 0.4,\n",
        "                                   zoom_range=0.3,\n",
        "                                   rotation_range=20,\n",
        "                                   rescale = 1./255\n",
        "                                   )\n",
        "\n",
        "test_gen = ImageDataGenerator(rescale = 1./255)\n",
        "\n",
        "image_size = 224\n",
        "batch_size = 64\n",
        "\n",
        "train_generator = train.flow_from_directory(\n",
        "        '../input/gender-classification-dataset/Training',\n",
        "        target_size=(image_size, image_size),\n",
        "        batch_size=batch_size,\n",
        "        class_mode='binary')\n",
        "\n",
        "validation_generator = test_gen.flow_from_directory(\n",
        "    '../input/gender-classification-dataset/Validation',\n",
        "    target_size = (image_size, image_size),\n",
        "    batch_size = batch_size,\n",
        "    class_mode = 'binary'\n",
        ")\n",
        "\n",
        "num_classes = len(train_generator.class_indices)\n",
        "print('Numer of classes:' ,num_classes)\n",
        "print('Class labels: ', train_generator.class_indices)\n",
        "\n"
      ],
      "execution_count": null,
      "outputs": []
    },
    {
      "cell_type": "code",
      "metadata": {
        "id": "kDCrmGyfd9uh"
      },
      "source": [
        "model = Sequential()\n",
        "\n",
        "model.add(ResNet50(include_top=False, pooling='avg', weights=None))\n",
        "model.add(Flatten())\n",
        "model.add(BatchNormalization())\n",
        "model.add(Dense(2048, activation='relu'))\n",
        "model.add(BatchNormalization())\n",
        "model.add(Dense(1024, activation='relu'))\n",
        "model.add(BatchNormalization())\n",
        "model.add(Dense(826, activation='relu'))\n",
        "model.add(BatchNormalization())\n",
        "model.add(Dense(238, activation='relu'))\n",
        "model.add(BatchNormalization())\n",
        "model.add(Dense(1, activation='sigmoid'))\n",
        "\n",
        "model.layers[0].trainable = True"
      ],
      "execution_count": null,
      "outputs": []
    },
    {
      "cell_type": "code",
      "metadata": {
        "id": "UYsDq9cbd94W"
      },
      "source": [
        "model.compile(optimizer='adam', loss='binary_crossentropy', metrics=['accuracy'])"
      ],
      "execution_count": null,
      "outputs": []
    },
    {
      "cell_type": "code",
      "metadata": {
        "id": "ywoH8IVLd-Br"
      },
      "source": [
        "model.fit_generator(train_generator, steps_per_epoch = int(47000/64) + 1  , epochs = 50, validation_data = validation_generator, callbacks = callbacks)"
      ],
      "execution_count": null,
      "outputs": []
    },
    {
      "cell_type": "code",
      "metadata": {
        "id": "wRFVFd7pzb32"
      },
      "source": [
        "model.save('model4.h5')"
      ],
      "execution_count": null,
      "outputs": []
    }
  ]
}